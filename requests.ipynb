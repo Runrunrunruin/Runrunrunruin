{
 "cells": [
  {
   "cell_type": "code",
   "execution_count": 1,
   "metadata": {
    "collapsed": true
   },
   "outputs": [],
   "source": [
    "import requests"
   ]
  },
  {
   "cell_type": "code",
   "execution_count": 2,
   "metadata": {
    "collapsed": true
   },
   "outputs": [],
   "source": [
    "r=requests.get(url='http://www.baidu.com/')"
   ]
  },
  {
   "cell_type": "code",
   "execution_count": 3,
   "metadata": {},
   "outputs": [
    {
     "name": "stdout",
     "output_type": "stream",
     "text": [
      "200\n"
     ]
    }
   ],
   "source": [
    "print(r.status_code)"
   ]
  },
  {
   "cell_type": "code",
   "execution_count": 4,
   "metadata": {},
   "outputs": [
    {
     "name": "stdout",
     "output_type": "stream",
     "text": [
      "http://www.baidu.com/\n"
     ]
    }
   ],
   "source": [
    "print(r.url)"
   ]
  },
  {
   "cell_type": "code",
   "execution_count": 5,
   "metadata": {},
   "outputs": [
    {
     "name": "stdout",
     "output_type": "stream",
     "text": [
      "<!DOCTYPE html>\r\n",
      "<!--STATUS OK--><html> <head><meta http-equiv=content-type content=text/html;charset=utf-8><meta http-equiv=X-UA-Compatible content=IE=Edge><meta content=always name=referrer><link rel=stylesheet type=text/css href=http://s1.bdstatic.com/r/www/cache/bdorz/baidu.min.css><title>ç¾åº¦ä¸ä¸ï¼ä½ å°±ç¥é</title></head> <body link=#0000cc> <div id=wrapper> <div id=head> <div class=head_wrapper> <div class=s_form> <div class=s_form_wrapper> <div id=lg> <img hidefocus=true src=//www.baidu.com/img/bd_logo1.png width=270 height=129> </div> <form id=form name=f action=//www.baidu.com/s class=fm> <input type=hidden name=bdorz_come value=1> <input type=hidden name=ie value=utf-8> <input type=hidden name=f value=8> <input type=hidden name=rsv_bp value=1> <input type=hidden name=rsv_idx value=1> <input type=hidden name=tn value=baidu><span class=\"bg s_ipt_wr\"><input id=kw name=wd class=s_ipt value maxlength=255 autocomplete=off autofocus></span><span class=\"bg s_btn_wr\"><input type=submit id=su value=ç¾åº¦ä¸ä¸ class=\"bg s_btn\"></span> </form> </div> </div> <div id=u1> <a href=http://news.baidu.com name=tj_trnews class=mnav>æ°é»</a> <a href=http://www.hao123.com name=tj_trhao123 class=mnav>hao123</a> <a href=http://map.baidu.com name=tj_trmap class=mnav>å°å¾</a> <a href=http://v.baidu.com name=tj_trvideo class=mnav>è§é¢</a> <a href=http://tieba.baidu.com name=tj_trtieba class=mnav>è´´å§</a> <noscript> <a href=http://www.baidu.com/bdorz/login.gif?login&amp;tpl=mn&amp;u=http%3A%2F%2Fwww.baidu.com%2f%3fbdorz_come%3d1 name=tj_login class=lb>ç»å½</a> </noscript> <script>document.write('<a href=\"http://www.baidu.com/bdorz/login.gif?login&tpl=mn&u='+ encodeURIComponent(window.location.href+ (window.location.search === \"\" ? \"?\" : \"&\")+ \"bdorz_come=1\")+ '\" name=\"tj_login\" class=\"lb\">ç»å½</a>');</script> <a href=//www.baidu.com/more/ name=tj_briicon class=bri style=\"display: block;\">æ´å¤äº§å</a> </div> </div> </div> <div id=ftCon> <div id=ftConw> <p id=lh> <a href=http://home.baidu.com>å",
      "³äºç¾åº¦</a> <a href=http://ir.baidu.com>About Baidu</a> </p> <p id=cp>&copy;2017&nbsp;Baidu&nbsp;<a href=http://www.baidu.com/duty/>ä½¿ç¨ç¾åº¦åå¿",
      "è¯»</a>&nbsp; <a href=http://jianyi.baidu.com/ class=cp-feedback>æè§åé¦</a>&nbsp;äº¬ICPè¯030173å·&nbsp; <img src=//www.baidu.com/img/gs.gif> </p> </div> </div> </div> </body> </html>\r\n",
      "\n"
     ]
    }
   ],
   "source": [
    "print(r.text)"
   ]
  },
  {
   "cell_type": "markdown",
   "metadata": {},
   "source": [
    "requests.get(‘https://github.com/timeline.json’) #GET请求  \n",
    "requests.post(“http://httpbin.org/post”) #POST请求  \n",
    "requests.put(“http://httpbin.org/put”) #PUT请求  \n",
    "requests.delete(“http://httpbin.org/delete”) #DELETE请求  \n",
    "requests.head(“http://httpbin.org/get”) #HEAD请求  \n",
    "requests.options(“http://httpbin.org/get”) #OPTIONS请求"
   ]
  },
  {
   "cell_type": "markdown",
   "metadata": {},
   "source": [
    "import requests  \n",
    "requests.get('http://www.dict.baidu.com/s', params={'wd': 'python'})    #GET参数实例  \n",
    "requests.post('http://www.itwhy.org/wp-comments-post.php', data={'comment': '测试POST'})    #POST参数实例"
   ]
  },
  {
   "cell_type": "markdown",
   "metadata": {},
   "source": [
    "r.status_code #响应状态码  \n",
    "r.raw #返回原始响应体，也就是 urllib 的 response 对象，使用 r.raw.read() 读取  \n",
    "r.content #字节方式的响应体，会自动为你解码 gzip 和 deflate 压缩  \n",
    "r.text #字符串方式的响应体，会自动根据响应头部的字符编码进行解码  \n",
    "r.headers #以字典对象存储服务器响应头，但是这个字典比较特殊，字典键不区分大小写，若键不存在则返回None  \n",
    "#*特殊方法*#  \n",
    "r.json() #Requests中内置的JSON解码器  \n",
    "r.raise_for_status() #失败请求(非200响应)抛出异常  "
   ]
  },
  {
   "cell_type": "markdown",
   "metadata": {},
   "source": [
    "import requests  \n",
    "URL = 'http://ip.taobao.com/service/getIpInfo.php'  # 淘宝IP地址库API  \n",
    "try:  \n",
    "    r = requests.get(URL, params={'ip': '8.8.8.8'}, timeout=1)  \n",
    "    r.raise_for_status()    # 如果响应状态码不是 200，就主动抛出异常  \n",
    "except requests.RequestException as e:  \n",
    "    print(e)  \n",
    "else:  \n",
    "    result = r.json()  \n",
    "    print(type(result), result, sep='\\n')  "
   ]
  },
  {
   "cell_type": "code",
   "execution_count": 9,
   "metadata": {
    "collapsed": true
   },
   "outputs": [],
   "source": [
    "url='http://www.baidu.com/'"
   ]
  },
  {
   "cell_type": "code",
   "execution_count": 14,
   "metadata": {
    "collapsed": true
   },
   "outputs": [],
   "source": [
    "import json"
   ]
  },
  {
   "cell_type": "code",
   "execution_count": 16,
   "metadata": {},
   "outputs": [
    {
     "data": {
      "text/plain": [
       "['JSONDecodeError',\n",
       " 'JSONDecoder',\n",
       " 'JSONEncoder',\n",
       " '__all__',\n",
       " '__author__',\n",
       " '__builtins__',\n",
       " '__cached__',\n",
       " '__doc__',\n",
       " '__file__',\n",
       " '__loader__',\n",
       " '__name__',\n",
       " '__package__',\n",
       " '__path__',\n",
       " '__spec__',\n",
       " '__version__',\n",
       " '_default_decoder',\n",
       " '_default_encoder',\n",
       " 'codecs',\n",
       " 'decoder',\n",
       " 'detect_encoding',\n",
       " 'dump',\n",
       " 'dumps',\n",
       " 'encoder',\n",
       " 'load',\n",
       " 'loads',\n",
       " 'scanner']"
      ]
     },
     "execution_count": 16,
     "metadata": {},
     "output_type": "execute_result"
    }
   ],
   "source": [
    "dir(json)"
   ]
  },
  {
   "cell_type": "code",
   "execution_count": 20,
   "metadata": {
    "collapsed": true
   },
   "outputs": [],
   "source": [
    "try:\n",
    "    r=requests.get(url,params={'ip':'8.8.8.8:88'},timeout=1)\n",
    "    r.raise_for_status()\n",
    "except request.RequestException as e:\n",
    "    print(e)"
   ]
  },
  {
   "cell_type": "markdown",
   "metadata": {},
   "source": [
    "# 文件上传"
   ]
  },
  {
   "cell_type": "markdown",
   "metadata": {},
   "source": [
    "import requests  \n",
    "url = 'http://127.0.0.1:5000/upload'  \n",
    "files = {'file': open('/home/lyb/sjzl.mpg', 'rb')}  \n",
    "#files = {'file': ('report.jpg', open('/home/lyb/sjzl.mpg', 'rb'))}     #显式的设置文件名  \n",
    "r = requests.post(url, files=files)  \n",
    "print(r.text)  \n",
    "更加方便的是，你可以把字符串当着文件进行上传：\n",
    "[python] view plain copy\n",
    "import requests  \n",
    "url = 'http://127.0.0.1:5000/upload'  \n",
    "files = {'file': ('test.txt', b'Hello Requests.')}     #必需显式的设置文件名  \n",
    "r = requests.post(url, files=files)  \n",
    "print(r.text)  "
   ]
  },
  {
   "cell_type": "code",
   "execution_count": 24,
   "metadata": {},
   "outputs": [
    {
     "name": "stdout",
     "output_type": "stream",
     "text": [
      "302\n"
     ]
    }
   ],
   "source": [
    "files={'file':('helllo world!')}\n",
    "r=requests.post(url,files=files)\n",
    "print(r.status_code)"
   ]
  },
  {
   "cell_type": "markdown",
   "metadata": {},
   "source": [
    "# 身份验证"
   ]
  },
  {
   "cell_type": "markdown",
   "metadata": {},
   "source": [
    "基本身份认证(HTTP Basic Auth):\n",
    "import requests  \n",
    "from requests.auth import HTTPBasicAuth  \n",
    "r = requests.get('https://httpbin.org/hidden-basic-auth/user/passwd', auth=HTTPBasicAuth('user', 'passwd'))  "
   ]
  },
  {
   "cell_type": "markdown",
   "metadata": {},
   "source": [
    "另一种非常流行的HTTP身份认证形式是摘要式身份认证，Requests对它的支持也是开箱即可用的:\n",
    "\n",
    "    requests.get(URL, auth=HTTPDigestAuth('user', 'pass'))      "
   ]
  },
  {
   "cell_type": "markdown",
   "metadata": {},
   "source": [
    "如果某个响应中包含一些Cookie，你可以快速访问它们：\n",
    "import requests  \n",
    "r = requests.get('http://www.google.com.hk/')  \n",
    "print(r.cookies['NID'])  \n",
    "print(tuple(r.cookies)) "
   ]
  },
  {
   "cell_type": "markdown",
   "metadata": {},
   "source": [
    "要想发送你的cookies到服务器，可以使用 cookies 参数：\n",
    "import requests  \n",
    "url = 'http://httpbin.org/cookies'  \n",
    "cookies = {'testCookies_1': 'Hello_Python3', 'testCookies_2': 'Hello_Requests'}    \n",
    "r = requests.get(url, cookies=cookies)  "
   ]
  },
  {
   "cell_type": "code",
   "execution_count": 16,
   "metadata": {},
   "outputs": [
    {
     "name": "stdout",
     "output_type": "stream",
     "text": [
      "输入你想签到的贴吧(默认山东大学吧)：帝霸\n",
      "签到成功\n"
     ]
    }
   ],
   "source": [
    "import urllib.request\n",
    "import requests\n",
    "class Tieba(object):\n",
    "    def __init__(self):\n",
    "        self.url_add='http://tieba.baidu.com/sign/add'\n",
    "        self.name='山东大学'\n",
    "        self.uname=self.name.encode(\"utf-8\")\n",
    "        self.headers={'Referer':'http://tieba.baidu.com/f?kw='+str(self.uname),'User-Agent':'Mozilla/5.0 (Windows NT 6.2; WOW64) AppleWebKit/537.36 (KHTML, like Gecko) Chrome/53.0.2785.104 Safari/537.36 Core/1.53.4033.400 QQBrowser/9.6.12624.400'}\n",
    "        self.data={'ie':'utf-8','kw':str(self.name)}\n",
    "        self.cookies={'BDUSS':'DVBTklHblROZ05QWUVnM09WNm9tMHlVdmpmUTE5d1lhQ1ZwcWd6YTVCc2tQVlJhQVFBQUFBJCQAAAAAAAAAAAEAAACFFRxH0rvOxbK71rXHrgAAAAAAAAAAAAAAAAAAAAAAAAAAAAAAAAAAAAAAAAAAAAAAAAAAAAAAAAAAAAAAAAAAAAAAACSwLFoksCxaR'}\n",
    "    def set_name(self):\n",
    "        name=input(\"输入你想签到的贴吧(默认山东大学吧)：\")\n",
    "        if name!=\"\":\n",
    "            self.name=name\n",
    "            self.uname=self.name.encode(\"utf-8\")\n",
    "            self.headers={'Referer':'http://tieba.baidu.com/f?kw='+str(self.uname),'User-Agent':'Mozilla/5.0 (Windows NT 6.2; WOW64) AppleWebKit/537.36 (KHTML, like Gecko) Chrome/53.0.2785.104 Safari/537.36 Core/1.53.4033.400 QQBrowser/9.6.12624.400'}\n",
    "            self.data={'ie':'utf-8','kw':str(self.name)}\n",
    "    def sign(self):\n",
    "        try:\n",
    "            requests.post(self.url_add,data=self.data,cookies=self.cookies)\n",
    "            print(\"签到成功\")\n",
    "        except urllib.request.URLError:\n",
    "            print(\"签到失败\")\n",
    "    def start(self):\n",
    "        self.set_name()\n",
    "        self.sign()\n",
    "x=Tieba()\n",
    "x.start()\n",
    "        \n",
    "    "
   ]
  },
  {
   "cell_type": "code",
   "execution_count": null,
   "metadata": {},
   "outputs": [
    {
     "name": "stdout",
     "output_type": "stream",
     "text": [
      "第1张下载成功。\n",
      "第2张下载成功。\n",
      "第3张下载成功。\n",
      "第4张下载成功。\n",
      "第5张下载成功。\n",
      "第6张下载成功。\n",
      "第7张下载成功。\n",
      "第8张下载成功。\n",
      "第9张下载成功。\n",
      "第10张下载成功。\n",
      "第11张下载成功。\n",
      "第12张下载成功。\n",
      "第13张下载成功。\n",
      "第14张下载成功。\n",
      "第15张下载成功。\n",
      "第16张下载成功。\n",
      "第17张下载成功。\n",
      "第18张下载成功。\n",
      "第19张下载成功。\n",
      "第20张下载成功。\n",
      "第21张下载成功。\n",
      "第22张下载成功。\n",
      "第23张下载成功。\n",
      "第24张下载成功。\n",
      "第25张下载成功。\n",
      "第26张下载成功。\n",
      "第27张下载成功。\n",
      "第28张下载成功。\n"
     ]
    }
   ],
   "source": [
    "import requests\n",
    "import urllib.request\n",
    "import re\n",
    "class MZT():\n",
    "    def __init__(self):\n",
    "        self.num=1\n",
    "        self.url='http://www.mzitu.com/page/'+str(self.num)\n",
    "        self.headers={'User-Agent':'Mozilla/5.0 (Windows NT 6.2; WOW64) AppleWebKit/537.36 (KHTML, like Gecko) Chrome/53.0.2785.104 Safari/537.36 Core/1.53.4033.400 QQBrowser/9.6.12624.400'}\n",
    "    def get_items(self):\n",
    "        request=requests.get(self.url,headers=self.headers)\n",
    "        html=request.text\n",
    "        pattern=re.compile(\"'http://i.meizitu.net/thumbs/(.*?).jpg' \",re.S)\n",
    "        self.items=re.findall(pattern,html)\n",
    "    def download(self):\n",
    "        i=1\n",
    "        while True:\n",
    "            try:\n",
    "                url='http://i.meizitu.net/thumbs/'+self.items[0]+'.jpg'\n",
    "                urllib.request.urlretrieve(url,'D:/MZT/i.jpg')\n",
    "                print(\"第{}张下载成功。\".format(i))\n",
    "                i=i+1\n",
    "                del(self.items[0])\n",
    "                if self.num>5:\n",
    "                    break\n",
    "            except IndexError:\n",
    "                self.num+=1\n",
    "                self.url='http://www.mzitu.com/page/'+str(self.num)\n",
    "                self.get_items\n",
    "                continue\n",
    "    def start(self):\n",
    "        self.get_items()\n",
    "        self.download()\n",
    "mzt=MZT()\n",
    "mzt.start()\n",
    "#被防盗  后面改进"
   ]
  },
  {
   "cell_type": "code",
   "execution_count": 1,
   "metadata": {
    "collapsed": true
   },
   "outputs": [],
   "source": [
    "import requests\n",
    "import re \n",
    "import json\n",
    "import threading\n",
    "import multiprocessing\n",
    "import concurrent.futures"
   ]
  },
  {
   "cell_type": "code",
   "execution_count": 2,
   "metadata": {
    "collapsed": true
   },
   "outputs": [],
   "source": [
    "def get_id(url):\n",
    "    response=requests.get(url)\n",
    "    html=response.text\n",
    "    pattern=re.compile(r'{ \"id\": \"(\\d*)\" }')\n",
    "    ids=re.findall(pattern,html)\n",
    "    return ids "
   ]
  },
  {
   "cell_type": "code",
   "execution_count": 3,
   "metadata": {
    "collapsed": true
   },
   "outputs": [],
   "source": [
    "def get_data(url):\n",
    "    data=[]\n",
    "    response=requests.get(url)\n",
    "    html=response.text\n",
    "    html=json.loads(html)\n",
    "    text=html['songinfo']\n",
    "    name=text['title']+' '+text['author']\n",
    "    data.append(name)\n",
    "    html=html[ 'bitrate']['file_link']\n",
    "    data.append(html)\n",
    "    print(data)\n",
    "    return data"
   ]
  },
  {
   "cell_type": "code",
   "execution_count": 4,
   "metadata": {
    "collapsed": true
   },
   "outputs": [],
   "source": [
    "def get_songid():\n",
    "    name=input(\"输入你想下载的音乐名字或者作者：\")\n",
    "    page=input(\"输入你想下载该作者的音乐页数，每页20首（如果你前面输入的是音乐名字，这里请输入：0）：\")\n",
    "    if page.isdigit():\n",
    "        if page=='0':\n",
    "            url='http://music.baidu.com/search?key='+name\n",
    "            songids=get_id(url)\n",
    "            print(songids)#用于检验\n",
    "            return songids\n",
    "        else:\n",
    "            for i in range(int(page)):\n",
    "                page=str(20*i)\n",
    "                url='http://music.baidu.com/search/song?s=1&key='+name+'&start='+page\n",
    "                songids=[]\n",
    "                songids.extend(get_id(url))\n",
    "            print(songids)\n",
    "            return songids\n",
    "    else:\n",
    "        print('页数请输入数字')\n",
    "        return None   "
   ]
  },
  {
   "cell_type": "code",
   "execution_count": 5,
   "metadata": {
    "collapsed": true
   },
   "outputs": [],
   "source": [
    "def get_datas(songids):#ids是一个列表\n",
    "    datas=[]\n",
    "    for songid in songids:\n",
    "        url='http://tingapi.ting.baidu.com/v1/restserver/ting?method=baidu.ting.song.play&songid='+songid\n",
    "        datas.append(get_data(url))\n",
    "    print(datas)#用于检查\n",
    "    return datas   "
   ]
  },
  {
   "cell_type": "code",
   "execution_count": 34,
   "metadata": {
    "collapsed": true
   },
   "outputs": [],
   "source": [
    "def download_song(data):\n",
    "    url=data[1]\n",
    "    response=requests.get(url)\n",
    "    mp3=response.content\n",
    "    with open('d:/song/{}.mp3'.format(data[0]),'ab+') as f:\n",
    "        f.write(mp3)"
   ]
  },
  {
   "cell_type": "code",
   "execution_count": 35,
   "metadata": {
    "collapsed": true
   },
   "outputs": [],
   "source": [
    "#单线程写法\n",
    "def main():\n",
    "    songids=get_songid()\n",
    "    datas=get_datas(songids)\n",
    "    for data in datas:\n",
    "        try:\n",
    "            download_song(data)\n",
    "        except FileNotFoundError:\n",
    "            break"
   ]
  },
  {
   "cell_type": "code",
   "execution_count": 32,
   "metadata": {},
   "outputs": [],
   "source": [
    "#多线程版本\n",
    "def main():\n",
    "    songids=get_songid()\n",
    "    datas=get_datas(songids)\n",
    "    for data in datas:\n",
    "        try:\n",
    "            t=threading.Thread(target=download_song,args=(data,))\n",
    "            t.start()\n",
    "            t.join()\n",
    "        except FileNotFoundError:\n",
    "            break"
   ]
  },
  {
   "cell_type": "code",
   "execution_count": 37,
   "metadata": {
    "collapsed": true
   },
   "outputs": [],
   "source": [
    "#多进程版本\n",
    "def main():\n",
    "    songids=get_songid()\n",
    "    datas=get_datas(songids)\n",
    "    for data in datas:\n",
    "        try:\n",
    "            p=multiprocessing.Process(target=download_song,args=(data,))\n",
    "            p.start()\n",
    "            p.join()\n",
    "        except FileNotFoundError:\n",
    "            break\n"
   ]
  },
  {
   "cell_type": "code",
   "execution_count": 39,
   "metadata": {},
   "outputs": [
    {
     "name": "stdout",
     "output_type": "stream",
     "text": [
      "输入你想下载的音乐名字或者作者：惊鸿一面\n",
      "输入你想下载该作者的音乐页数，每页20首（如果你前面输入的是音乐名字，这里请输入：0）：0\n",
      "['121911466', '73976011', '74230829', '74000034', '74103548', '74210653', '74204878', '74140410', '74199772', '74154831', '74199623', '74139180']\n",
      "['惊鸿一面 许嵩', 'http://yinyueshiting.baidu.com/data2/music/9ea403d6dcb6951fce3d08ed11efced0/555877637/555877637.mp3?xcode=e7375a59da3950936b73a0f684021956']\n",
      "['惊鸿一面 林玉涵', 'http://yinyueshiting.baidu.com/data2/music/02aad274e7c6af5bf257c81c62151d56/274692764/274692764.mp3?xcode=e7375a59da3950936b73a0f684021956']\n",
      "['惊鸿一面 灰菟', 'http://yinyueshiting.baidu.com/data2/music/421f3c524f626166d00dfd0b7457401a/554161362/554161362.mp3?xcode=e7375a59da3950936b73a0f684021956']\n",
      "['惊鸿一面 璃芷墨', 'http://yinyueshiting.baidu.com/data2/music/14015560f90384c94452f141ef89f3e0/271401042/271401042.mp3?xcode=e7375a59da3950936b73a0f684021956']\n",
      "['惊鸿一面 烟小尘', 'http://yinyueshiting.baidu.com/data2/music/723a27a68df964f067c4c042272f805e/260805787/260805787.mp3?xcode=e7375a59da3950936b73a0f684021956']\n",
      "['惊鸿一面Ft.西瓜 萧忆情Alex', 'http://yinyueshiting.baidu.com/data2/music/ab9fc30ad448b24ea77d6fed68cd0f92/541659536/541659536.mp3?xcode=e7375a59da3950936b73a0f684021956']\n",
      "['惊鸿一面（FT.秦且歌） 玄觞', 'http://yinyueshiting.baidu.com/data2/music/a6044a186fdc500638171970df20d514/540519208/540519208.mp3?xcode=e7375a59da3950936b73a0f684021956']\n",
      "['惊鸿一面（凌仙儿/仇仇） 凌仙儿_72', 'http://yinyueshiting.baidu.com/data2/music/54798a27640fcda17225398f9e9d0fc7/265848757/265848757.mp3?xcode=e7375a59da3950936b73a0f684021956']\n",
      "['惊鸿一面 [Ft.黄麒] 伯 虎（唐寅）', 'http://yinyueshiting.baidu.com/data2/music/9b2a8e53cba71b9bcac4a1e2c5fa1200/539666346/539666346.mp3?xcode=e7375a59da3950936b73a0f684021956']\n",
      "['惊鸿一面【夏子皓 & 柠檬酥】 夏子皓', 'http://yinyueshiting.baidu.com/data2/music/e4989b9a3f83184697c482546d8dddaf/268216948/268216948.mp3?xcode=e7375a59da395093b123be2e4a685e68']\n",
      "['惊鸿一面（feat. 伯虎） 黄麒Eros', 'http://yinyueshiting.baidu.com/data2/music/80913fca4944eb77c879cebb5bc48e75/539577090/539577090.mp3?xcode=e7375a59da395093b123be2e4a685e68']\n",
      "['古风┋仇仇 凌仙儿72┋惊鸿一面 仇仇', 'http://yinyueshiting.baidu.com/data2/music/4c0a9657da222d2bd3dc8b4611552984/265732101/265732101.mp3?xcode=e7375a59da395093b123be2e4a685e68']\n",
      "[['惊鸿一面 许嵩', 'http://yinyueshiting.baidu.com/data2/music/9ea403d6dcb6951fce3d08ed11efced0/555877637/555877637.mp3?xcode=e7375a59da3950936b73a0f684021956'], ['惊鸿一面 林玉涵', 'http://yinyueshiting.baidu.com/data2/music/02aad274e7c6af5bf257c81c62151d56/274692764/274692764.mp3?xcode=e7375a59da3950936b73a0f684021956'], ['惊鸿一面 灰菟', 'http://yinyueshiting.baidu.com/data2/music/421f3c524f626166d00dfd0b7457401a/554161362/554161362.mp3?xcode=e7375a59da3950936b73a0f684021956'], ['惊鸿一面 璃芷墨', 'http://yinyueshiting.baidu.com/data2/music/14015560f90384c94452f141ef89f3e0/271401042/271401042.mp3?xcode=e7375a59da3950936b73a0f684021956'], ['惊鸿一面 烟小尘', 'http://yinyueshiting.baidu.com/data2/music/723a27a68df964f067c4c042272f805e/260805787/260805787.mp3?xcode=e7375a59da3950936b73a0f684021956'], ['惊鸿一面Ft.西瓜 萧忆情Alex', 'http://yinyueshiting.baidu.com/data2/music/ab9fc30ad448b24ea77d6fed68cd0f92/541659536/541659536.mp3?xcode=e7375a59da3950936b73a0f684021956'], ['惊鸿一面（FT.秦且歌） 玄觞', 'http://yinyueshiting.baidu.com/data2/music/a6044a186fdc500638171970df20d514/540519208/540519208.mp3?xcode=e7375a59da3950936b73a0f684021956'], ['惊鸿一面（凌仙儿/仇仇） 凌仙儿_72', 'http://yinyueshiting.baidu.com/data2/music/54798a27640fcda17225398f9e9d0fc7/265848757/265848757.mp3?xcode=e7375a59da3950936b73a0f684021956'], ['惊鸿一面 [Ft.黄麒] 伯 虎（唐寅）', 'http://yinyueshiting.baidu.com/data2/music/9b2a8e53cba71b9bcac4a1e2c5fa1200/539666346/539666346.mp3?xcode=e7375a59da3950936b73a0f684021956'], ['惊鸿一面【夏子皓 & 柠檬酥】 夏子皓', 'http://yinyueshiting.baidu.com/data2/music/e4989b9a3f83184697c482546d8dddaf/268216948/268216948.mp3?xcode=e7375a59da395093b123be2e4a685e68'], ['惊鸿一面（feat. 伯虎） 黄麒Eros', 'http://yinyueshiting.baidu.com/data2/music/80913fca4944eb77c879cebb5bc48e75/539577090/539577090.mp3?xcode=e7375a59da395093b123be2e4a685e68'], ['古风┋仇仇 凌仙儿72┋惊鸿一面 仇仇', 'http://yinyueshiting.baidu.com/data2/music/4c0a9657da222d2bd3dc8b4611552984/265732101/265732101.mp3?xcode=e7375a59da395093b123be2e4a685e68']]\n"
     ]
    },
    {
     "data": {
      "text/plain": [
       "8.660846989622769"
      ]
     },
     "execution_count": 39,
     "metadata": {},
     "output_type": "execute_result"
    }
   ],
   "source": [
    "Timer('main()','from __main__ import main').timeit(1)#多进程版本，不过在这里运行并没有下载"
   ]
  },
  {
   "cell_type": "code",
   "execution_count": 36,
   "metadata": {},
   "outputs": [
    {
     "name": "stdout",
     "output_type": "stream",
     "text": [
      "输入你想下载的音乐名字或者作者：惊鸿一面\n",
      "输入你想下载该作者的音乐页数，每页20首（如果你前面输入的是音乐名字，这里请输入：0）：0\n",
      "['121911466', '73976011', '74230829', '74000034', '74103548', '74210653', '74204878', '74140410', '74199772', '74154831', '74199623', '74139180']\n",
      "['惊鸿一面 许嵩', 'http://yinyueshiting.baidu.com/data2/music/9ea403d6dcb6951fce3d08ed11efced0/555877637/555877637.mp3?xcode=a8b87a6020915bcb9e9cdd6067ee2141']\n",
      "['惊鸿一面 林玉涵', 'http://yinyueshiting.baidu.com/data2/music/02aad274e7c6af5bf257c81c62151d56/274692764/274692764.mp3?xcode=a8b87a6020915bcb9e9cdd6067ee2141']\n",
      "['惊鸿一面 灰菟', 'http://yinyueshiting.baidu.com/data2/music/421f3c524f626166d00dfd0b7457401a/554161362/554161362.mp3?xcode=a8b87a6020915bcb9e9cdd6067ee2141']\n",
      "['惊鸿一面 璃芷墨', 'http://yinyueshiting.baidu.com/data2/music/14015560f90384c94452f141ef89f3e0/271401042/271401042.mp3?xcode=a8b87a6020915bcb9e9cdd6067ee2141']\n",
      "['惊鸿一面 烟小尘', 'http://yinyueshiting.baidu.com/data2/music/723a27a68df964f067c4c042272f805e/260805787/260805787.mp3?xcode=a8b87a6020915bcb9e9cdd6067ee2141']\n",
      "['惊鸿一面Ft.西瓜 萧忆情Alex', 'http://yinyueshiting.baidu.com/data2/music/ab9fc30ad448b24ea77d6fed68cd0f92/541659536/541659536.mp3?xcode=a8b87a6020915bcb9e9cdd6067ee2141']\n",
      "['惊鸿一面（FT.秦且歌） 玄觞', 'http://yinyueshiting.baidu.com/data2/music/a6044a186fdc500638171970df20d514/540519208/540519208.mp3?xcode=a8b87a6020915bcb9e9cdd6067ee2141']\n",
      "['惊鸿一面（凌仙儿/仇仇） 凌仙儿_72', 'http://yinyueshiting.baidu.com/data2/music/54798a27640fcda17225398f9e9d0fc7/265848757/265848757.mp3?xcode=a8b87a6020915bcb9e9cdd6067ee2141']\n",
      "['惊鸿一面 [Ft.黄麒] 伯 虎（唐寅）', 'http://yinyueshiting.baidu.com/data2/music/9b2a8e53cba71b9bcac4a1e2c5fa1200/539666346/539666346.mp3?xcode=a8b87a6020915bcb9e9cdd6067ee2141']\n",
      "['惊鸿一面【夏子皓 & 柠檬酥】 夏子皓', 'http://yinyueshiting.baidu.com/data2/music/e4989b9a3f83184697c482546d8dddaf/268216948/268216948.mp3?xcode=a8b87a6020915bcbf5d44a3a1acfff98']\n",
      "['惊鸿一面（feat. 伯虎） 黄麒Eros', 'http://yinyueshiting.baidu.com/data2/music/80913fca4944eb77c879cebb5bc48e75/539577090/539577090.mp3?xcode=a8b87a6020915bcbf5d44a3a1acfff98']\n",
      "['古风┋仇仇 凌仙儿72┋惊鸿一面 仇仇', 'http://yinyueshiting.baidu.com/data2/music/4c0a9657da222d2bd3dc8b4611552984/265732101/265732101.mp3?xcode=a8b87a6020915bcbf5d44a3a1acfff98']\n",
      "[['惊鸿一面 许嵩', 'http://yinyueshiting.baidu.com/data2/music/9ea403d6dcb6951fce3d08ed11efced0/555877637/555877637.mp3?xcode=a8b87a6020915bcb9e9cdd6067ee2141'], ['惊鸿一面 林玉涵', 'http://yinyueshiting.baidu.com/data2/music/02aad274e7c6af5bf257c81c62151d56/274692764/274692764.mp3?xcode=a8b87a6020915bcb9e9cdd6067ee2141'], ['惊鸿一面 灰菟', 'http://yinyueshiting.baidu.com/data2/music/421f3c524f626166d00dfd0b7457401a/554161362/554161362.mp3?xcode=a8b87a6020915bcb9e9cdd6067ee2141'], ['惊鸿一面 璃芷墨', 'http://yinyueshiting.baidu.com/data2/music/14015560f90384c94452f141ef89f3e0/271401042/271401042.mp3?xcode=a8b87a6020915bcb9e9cdd6067ee2141'], ['惊鸿一面 烟小尘', 'http://yinyueshiting.baidu.com/data2/music/723a27a68df964f067c4c042272f805e/260805787/260805787.mp3?xcode=a8b87a6020915bcb9e9cdd6067ee2141'], ['惊鸿一面Ft.西瓜 萧忆情Alex', 'http://yinyueshiting.baidu.com/data2/music/ab9fc30ad448b24ea77d6fed68cd0f92/541659536/541659536.mp3?xcode=a8b87a6020915bcb9e9cdd6067ee2141'], ['惊鸿一面（FT.秦且歌） 玄觞', 'http://yinyueshiting.baidu.com/data2/music/a6044a186fdc500638171970df20d514/540519208/540519208.mp3?xcode=a8b87a6020915bcb9e9cdd6067ee2141'], ['惊鸿一面（凌仙儿/仇仇） 凌仙儿_72', 'http://yinyueshiting.baidu.com/data2/music/54798a27640fcda17225398f9e9d0fc7/265848757/265848757.mp3?xcode=a8b87a6020915bcb9e9cdd6067ee2141'], ['惊鸿一面 [Ft.黄麒] 伯 虎（唐寅）', 'http://yinyueshiting.baidu.com/data2/music/9b2a8e53cba71b9bcac4a1e2c5fa1200/539666346/539666346.mp3?xcode=a8b87a6020915bcb9e9cdd6067ee2141'], ['惊鸿一面【夏子皓 & 柠檬酥】 夏子皓', 'http://yinyueshiting.baidu.com/data2/music/e4989b9a3f83184697c482546d8dddaf/268216948/268216948.mp3?xcode=a8b87a6020915bcbf5d44a3a1acfff98'], ['惊鸿一面（feat. 伯虎） 黄麒Eros', 'http://yinyueshiting.baidu.com/data2/music/80913fca4944eb77c879cebb5bc48e75/539577090/539577090.mp3?xcode=a8b87a6020915bcbf5d44a3a1acfff98'], ['古风┋仇仇 凌仙儿72┋惊鸿一面 仇仇', 'http://yinyueshiting.baidu.com/data2/music/4c0a9657da222d2bd3dc8b4611552984/265732101/265732101.mp3?xcode=a8b87a6020915bcbf5d44a3a1acfff98']]\n"
     ]
    },
    {
     "data": {
      "text/plain": [
       "32.46392054761441"
      ]
     },
     "execution_count": 36,
     "metadata": {},
     "output_type": "execute_result"
    }
   ],
   "source": [
    "Timer('main()','from __main__ import main').timeit(1)#单线程。。有一个总是有问题，不知道怎么回事\n",
    "#FileNotFoundError: [Errno 2] No such file or directory: 'd:/song/惊鸿一面（凌仙儿/仇仇） 凌仙儿_72.mp3'\n",
    "#idle运行不会有这个错误"
   ]
  },
  {
   "cell_type": "code",
   "execution_count": 33,
   "metadata": {},
   "outputs": [
    {
     "name": "stdout",
     "output_type": "stream",
     "text": [
      "输入你想下载的音乐名字或者作者：惊鸿一面\n",
      "输入你想下载该作者的音乐页数，每页20首（如果你前面输入的是音乐名字，这里请输入：0）：0\n",
      "['121911466', '73976011', '74230829', '74000034', '74103548', '74210653', '74204878', '74140410', '74199772', '74154831', '74199623', '74139180']\n",
      "['惊鸿一面 许嵩', 'http://yinyueshiting.baidu.com/data2/music/9ea403d6dcb6951fce3d08ed11efced0/555877637/555877637.mp3?xcode=0f947deb6e4cb92e718197b4a0f16666']\n",
      "['惊鸿一面 林玉涵', 'http://yinyueshiting.baidu.com/data2/music/02aad274e7c6af5bf257c81c62151d56/274692764/274692764.mp3?xcode=0f947deb6e4cb92e718197b4a0f16666']\n",
      "['惊鸿一面 灰菟', 'http://yinyueshiting.baidu.com/data2/music/421f3c524f626166d00dfd0b7457401a/554161362/554161362.mp3?xcode=0f947deb6e4cb92e718197b4a0f16666']\n",
      "['惊鸿一面 璃芷墨', 'http://yinyueshiting.baidu.com/data2/music/14015560f90384c94452f141ef89f3e0/271401042/271401042.mp3?xcode=0f947deb6e4cb92e718197b4a0f16666']\n",
      "['惊鸿一面 烟小尘', 'http://yinyueshiting.baidu.com/data2/music/723a27a68df964f067c4c042272f805e/260805787/260805787.mp3?xcode=0f947deb6e4cb92ec9bf3d409e407d1c']\n",
      "['惊鸿一面Ft.西瓜 萧忆情Alex', 'http://yinyueshiting.baidu.com/data2/music/ab9fc30ad448b24ea77d6fed68cd0f92/541659536/541659536.mp3?xcode=0f947deb6e4cb92ec9bf3d409e407d1c']\n",
      "['惊鸿一面（FT.秦且歌） 玄觞', 'http://yinyueshiting.baidu.com/data2/music/a6044a186fdc500638171970df20d514/540519208/540519208.mp3?xcode=0f947deb6e4cb92ec9bf3d409e407d1c']\n",
      "['惊鸿一面（凌仙儿/仇仇） 凌仙儿_72', 'http://yinyueshiting.baidu.com/data2/music/54798a27640fcda17225398f9e9d0fc7/265848757/265848757.mp3?xcode=0f947deb6e4cb92ec9bf3d409e407d1c']\n",
      "['惊鸿一面 [Ft.黄麒] 伯 虎（唐寅）', 'http://yinyueshiting.baidu.com/data2/music/9b2a8e53cba71b9bcac4a1e2c5fa1200/539666346/539666346.mp3?xcode=0f947deb6e4cb92ec9bf3d409e407d1c']\n",
      "['惊鸿一面【夏子皓 & 柠檬酥】 夏子皓', 'http://yinyueshiting.baidu.com/data2/music/e4989b9a3f83184697c482546d8dddaf/268216948/268216948.mp3?xcode=0f947deb6e4cb92ec9bf3d409e407d1c']\n",
      "['惊鸿一面（feat. 伯虎） 黄麒Eros', 'http://yinyueshiting.baidu.com/data2/music/80913fca4944eb77c879cebb5bc48e75/539577090/539577090.mp3?xcode=0f947deb6e4cb92e766f476e85847328']\n",
      "['古风┋仇仇 凌仙儿72┋惊鸿一面 仇仇', 'http://yinyueshiting.baidu.com/data2/music/4c0a9657da222d2bd3dc8b4611552984/265732101/265732101.mp3?xcode=0f947deb6e4cb92e766f476e85847328']\n",
      "[['惊鸿一面 许嵩', 'http://yinyueshiting.baidu.com/data2/music/9ea403d6dcb6951fce3d08ed11efced0/555877637/555877637.mp3?xcode=0f947deb6e4cb92e718197b4a0f16666'], ['惊鸿一面 林玉涵', 'http://yinyueshiting.baidu.com/data2/music/02aad274e7c6af5bf257c81c62151d56/274692764/274692764.mp3?xcode=0f947deb6e4cb92e718197b4a0f16666'], ['惊鸿一面 灰菟', 'http://yinyueshiting.baidu.com/data2/music/421f3c524f626166d00dfd0b7457401a/554161362/554161362.mp3?xcode=0f947deb6e4cb92e718197b4a0f16666'], ['惊鸿一面 璃芷墨', 'http://yinyueshiting.baidu.com/data2/music/14015560f90384c94452f141ef89f3e0/271401042/271401042.mp3?xcode=0f947deb6e4cb92e718197b4a0f16666'], ['惊鸿一面 烟小尘', 'http://yinyueshiting.baidu.com/data2/music/723a27a68df964f067c4c042272f805e/260805787/260805787.mp3?xcode=0f947deb6e4cb92ec9bf3d409e407d1c'], ['惊鸿一面Ft.西瓜 萧忆情Alex', 'http://yinyueshiting.baidu.com/data2/music/ab9fc30ad448b24ea77d6fed68cd0f92/541659536/541659536.mp3?xcode=0f947deb6e4cb92ec9bf3d409e407d1c'], ['惊鸿一面（FT.秦且歌） 玄觞', 'http://yinyueshiting.baidu.com/data2/music/a6044a186fdc500638171970df20d514/540519208/540519208.mp3?xcode=0f947deb6e4cb92ec9bf3d409e407d1c'], ['惊鸿一面（凌仙儿/仇仇） 凌仙儿_72', 'http://yinyueshiting.baidu.com/data2/music/54798a27640fcda17225398f9e9d0fc7/265848757/265848757.mp3?xcode=0f947deb6e4cb92ec9bf3d409e407d1c'], ['惊鸿一面 [Ft.黄麒] 伯 虎（唐寅）', 'http://yinyueshiting.baidu.com/data2/music/9b2a8e53cba71b9bcac4a1e2c5fa1200/539666346/539666346.mp3?xcode=0f947deb6e4cb92ec9bf3d409e407d1c'], ['惊鸿一面【夏子皓 & 柠檬酥】 夏子皓', 'http://yinyueshiting.baidu.com/data2/music/e4989b9a3f83184697c482546d8dddaf/268216948/268216948.mp3?xcode=0f947deb6e4cb92ec9bf3d409e407d1c'], ['惊鸿一面（feat. 伯虎） 黄麒Eros', 'http://yinyueshiting.baidu.com/data2/music/80913fca4944eb77c879cebb5bc48e75/539577090/539577090.mp3?xcode=0f947deb6e4cb92e766f476e85847328'], ['古风┋仇仇 凌仙儿72┋惊鸿一面 仇仇', 'http://yinyueshiting.baidu.com/data2/music/4c0a9657da222d2bd3dc8b4611552984/265732101/265732101.mp3?xcode=0f947deb6e4cb92e766f476e85847328']]\n"
     ]
    },
    {
     "name": "stderr",
     "output_type": "stream",
     "text": [
      "Exception in thread Thread-13:\n",
      "Traceback (most recent call last):\n",
      "  File \"D:\\python\\lib\\threading.py\", line 916, in _bootstrap_inner\n",
      "    self.run()\n",
      "  File \"D:\\python\\lib\\threading.py\", line 864, in run\n",
      "    self._target(*self._args, **self._kwargs)\n",
      "  File \"<ipython-input-6-079e654f3a94>\", line 5, in download_song\n",
      "    with open('d:/song/{}.mp3'.format(data[0]),'ab+') as f:\n",
      "FileNotFoundError: [Errno 2] No such file or directory: 'd:/song/惊鸿一面（凌仙儿/仇仇） 凌仙儿_72.mp3'\n",
      "\n"
     ]
    },
    {
     "data": {
      "text/plain": [
       "36.79553416966564"
      ]
     },
     "execution_count": 33,
     "metadata": {},
     "output_type": "execute_result"
    }
   ],
   "source": [
    "Timer('main()','from __main__ import main').timeit(1)#多线程，其他线程正常下载"
   ]
  },
  {
   "cell_type": "code",
   "execution_count": null,
   "metadata": {
    "collapsed": true
   },
   "outputs": [],
   "source": [
    "#多"
   ]
  }
 ],
 "metadata": {
  "kernelspec": {
   "display_name": "Python 3",
   "language": "python",
   "name": "python3"
  },
  "language_info": {
   "codemirror_mode": {
    "name": "ipython",
    "version": 3
   },
   "file_extension": ".py",
   "mimetype": "text/x-python",
   "name": "python",
   "nbconvert_exporter": "python",
   "pygments_lexer": "ipython3",
   "version": "3.6.1"
  }
 },
 "nbformat": 4,
 "nbformat_minor": 2
}
